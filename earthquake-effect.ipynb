{
 "cells": [
  {
   "cell_type": "code",
   "execution_count": 1,
   "metadata": {},
   "outputs": [],
   "source": [
    "import praw\n",
    "import json\n",
    "from requests import Session"
   ]
  },
  {
   "cell_type": "code",
   "execution_count": 2,
   "metadata": {},
   "outputs": [],
   "source": [
    "cf = json.load(open('andavargas_config.json')) # hidden in .gitignore\n",
    "                                               # see exampleuser_config.json and use your own credentials"
   ]
  },
  {
   "cell_type": "code",
   "execution_count": 7,
   "metadata": {},
   "outputs": [],
   "source": [
    "# you may not need this. If so, remove this and requestor_kwargs below\n",
    "session = Session()\n",
    "session.verify = cf['certificate']"
   ]
  },
  {
   "cell_type": "code",
   "execution_count": 8,
   "metadata": {},
   "outputs": [],
   "source": [
    "rd = praw.Reddit(\n",
    "    client_id=cf['client_id'],\n",
    "    client_secret=cf['client_secret'],\n",
    "    user_agent=cf['user_agent'],\n",
    "    requestor_kwargs={'session': session})"
   ]
  },
  {
   "cell_type": "code",
   "execution_count": 9,
   "metadata": {},
   "outputs": [
    {
     "name": "stdout",
     "output_type": "stream",
     "text": [
      "17025\n",
      "1442\n",
      "14265\n",
      "32111\n",
      "811\n",
      "14525\n",
      "240\n",
      "32548\n",
      "7368\n",
      "43867\n"
     ]
    }
   ],
   "source": [
    "for sm in rd.subreddit('news').hot(limit=10):\n",
    "    print(sm.score)"
   ]
  },
  {
   "cell_type": "code",
   "execution_count": null,
   "metadata": {},
   "outputs": [],
   "source": []
  }
 ],
 "metadata": {
  "kernelspec": {
   "display_name": "Python 3",
   "language": "python",
   "name": "python3"
  },
  "language_info": {
   "codemirror_mode": {
    "name": "ipython",
    "version": 3
   },
   "file_extension": ".py",
   "mimetype": "text/x-python",
   "name": "python",
   "nbconvert_exporter": "python",
   "pygments_lexer": "ipython3",
   "version": "3.7.1"
  }
 },
 "nbformat": 4,
 "nbformat_minor": 2
}
